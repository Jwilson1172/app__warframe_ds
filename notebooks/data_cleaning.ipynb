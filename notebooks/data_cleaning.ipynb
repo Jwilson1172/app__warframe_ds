{
 "metadata": {
  "language_info": {
   "codemirror_mode": {
    "name": "ipython",
    "version": 3
   },
   "file_extension": ".py",
   "mimetype": "text/x-python",
   "name": "python",
   "nbconvert_exporter": "python",
   "pygments_lexer": "ipython3",
   "version": 3
  },
  "orig_nbformat": 2
 },
 "nbformat": 4,
 "nbformat_minor": 2,
 "cells": [
  {
   "cell_type": "markdown",
   "metadata": {},
   "source": [
    "## A warframe market scrapper that takes information from the public warframe market and catorgorizes it and prints a graph out to a heroku based website using sns or plotly. possibly will be using a dash app also \n",
    "\n",
    "the objective in this project are to show understanding of hosting webservices and creating a transformitive ETL Pipeline using a publicly avalible api to provide people with not only a graph of the current market but a projection for fucture prices of various items that are hosted on that said marketplace\n",
    "\n",
    "the current checklist of tasks are:\n",
    "- make a service that runns on a chron job to collect the market place data every 5-15 minutes and stors it in a local data base, then taking another service that prepares that data and adds it to a web database to display to a page with graphing logic.\n",
    " - using another service I will make a model that takes the current market values for items and tries to predict the overall trend for that item gussing the rate of inflation over time and another model that will take a recent time window and tries to predict the 'day-traddign' value for the next 2 weeks. this information will be double checked for accuracy metrics of the next two weeks and the over all accuracy will be displayed ona  seperat page for more technical users and potention future employers\n",
    "\n",
    " "
   ]
  },
  {
   "cell_type": "code",
   "execution_count": null,
   "metadata": {},
   "outputs": [],
   "source": [
    "from pandas import DataFrame, Series"
   ]
  }
 ]
}