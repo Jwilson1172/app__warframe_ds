{
 "metadata": {
  "language_info": {
   "codemirror_mode": {
    "name": "ipython",
    "version": 3
   },
   "file_extension": ".py",
   "mimetype": "text/x-python",
   "name": "python",
   "nbconvert_exporter": "python",
   "pygments_lexer": "ipython3",
   "version": 3
  },
  "orig_nbformat": 2,
  "kernelspec": {
   "name": "python_defaultSpec_1597335103362",
   "display_name": "Python 3.7.6 64-bit ('ds-base': conda)"
  }
 },
 "nbformat": 4,
 "nbformat_minor": 2,
 "cells": [
  {
   "cell_type": "code",
   "execution_count": 2,
   "metadata": {
    "tags": []
   },
   "outputs": [
    {
     "output_type": "stream",
     "name": "stdout",
     "text": "/mnt/c/Users/joe/OneDrive/Desktop/SCHOOL/web__warframe_ds\n"
    }
   ],
   "source": [
    "%cd ../"
   ]
  },
  {
   "cell_type": "code",
   "execution_count": 3,
   "metadata": {},
   "outputs": [],
   "source": [
    "from app import create_app\n",
    "from flask import Flask\n",
    "\n"
   ]
  },
  {
   "cell_type": "code",
   "execution_count": 7,
   "metadata": {},
   "outputs": [],
   "source": [
    "assert isinstance(create_app(), type(Flask('None'))) "
   ]
  },
  {
   "cell_type": "code",
   "execution_count": 8,
   "metadata": {},
   "outputs": [],
   "source": [
    "server = create_app()"
   ]
  },
  {
   "cell_type": "code",
   "execution_count": 11,
   "metadata": {},
   "outputs": [
    {
     "output_type": "execute_result",
     "data": {
      "text/plain": "True"
     },
     "metadata": {},
     "execution_count": 11
    }
   ],
   "source": [
    "str(server.url_map) == \"Map([<Rule '/_dash-update-component' (POST, OPTIONS) -> /_dash-update-component>,\\n <Rule '/_dash-dependencies' (HEAD, GET, OPTIONS) -> /_dash-dependencies>,\\n <Rule '/_dash-layout' (HEAD, GET, OPTIONS) -> /_dash-layout>,\\n <Rule '/_reload-hash' (HEAD, GET, OPTIONS) -> /_reload-hash>,\\n <Rule '/_favicon.ico' (HEAD, GET, OPTIONS) -> /_favicon.ico>,\\n <Rule '/' (HEAD, GET, OPTIONS) -> />,\\n <Rule '/_dash-component-suites/<package_name>/<fingerprinted_path>' (HEAD, GET, OPTIONS) -> /_dash-component-suites/<string:package_name>/<path:fingerprinted_path>>,\\n <Rule '/static/<filename>' (HEAD, GET, OPTIONS) -> static>,\\n <Rule '/assets/<filename>' (HEAD, GET, OPTIONS) -> _dash_assets.static>,\\n <Rule '/<path>' (HEAD, GET, OPTIONS) -> /<path:path>>])\""
   ]
  },
  {
   "cell_type": "code",
   "execution_count": null,
   "metadata": {},
   "outputs": [],
   "source": []
  }
 ]
}